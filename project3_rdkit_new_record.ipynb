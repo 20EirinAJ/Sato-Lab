{
  "nbformat": 4,
  "nbformat_minor": 0,
  "metadata": {
    "colab": {
      "provenance": [],
      "authorship_tag": "ABX9TyMjaNjQtqw6285DUx+CfZUI",
      "include_colab_link": true
    },
    "kernelspec": {
      "name": "python3",
      "display_name": "Python 3"
    },
    "language_info": {
      "name": "python"
    }
  },
  "cells": [
    {
      "cell_type": "markdown",
      "metadata": {
        "id": "view-in-github",
        "colab_type": "text"
      },
      "source": [
        "<a href=\"https://colab.research.google.com/github/20EirinAJ/Sato-Lab/blob/Prediction-of-protein-compound-binding/project3_rdkit_new_record.ipynb\" target=\"_parent\"><img src=\"https://colab.research.google.com/assets/colab-badge.svg\" alt=\"Open In Colab\"/></a>"
      ]
    },
    {
      "cell_type": "markdown",
      "source": [
        "# タンパク質・化合物結合予測プログラムの実装"
      ],
      "metadata": {
        "id": "eoPqjsuEUDh_"
      }
    },
    {
      "cell_type": "code",
      "source": [],
      "metadata": {
        "id": "-4RWY1aaOYnq"
      },
      "execution_count": null,
      "outputs": []
    },
    {
      "cell_type": "code",
      "source": [
        "!pip install optuna"
      ],
      "metadata": {
        "id": "GduyY5jzYX_7"
      },
      "execution_count": null,
      "outputs": []
    },
    {
      "cell_type": "code",
      "source": [
        "# ライブラリのインポート\n",
        "import pandas as pd # 基本ライブラリ\n",
        "import numpy as np # 基本ライブラリ\n",
        "import matplotlib.pyplot as plt # グラフ描画用\n",
        "import seaborn as sns; sns.set() # グラフ描画用\n",
        "import warnings # 実行に関係ない警告を無視\n",
        "warnings.filterwarnings('ignore')\n",
        "import optuna\n",
        "import optuna.integration.lightgbm as lgb #LightGBM\n",
        "from sklearn import datasets\n",
        "from sklearn.model_selection import train_test_split # データセット分割用\n",
        "from sklearn.metrics import accuracy_score # モデル評価用(正答率)\n",
        "from sklearn.metrics import log_loss # モデル評価用(logloss)     \n",
        "from sklearn.metrics import roc_auc_score # モデル評価用(auc)\n",
        "from sklearn.metrics import f1_score, precision_recall_fscore_support # F1の値\n",
        "from sklearn import model_selection \n",
        "from sklearn.linear_model import LogisticRegression\n",
        "from sklearn.tree import DecisionTreeClassifier\n",
        "from sklearn.svm import SVC\n",
        "from sklearn.ensemble import VotingClassifier"
      ],
      "metadata": {
        "colab": {
          "base_uri": "https://localhost:8080/"
        },
        "id": "h3Sk4jRgJHV0",
        "outputId": "da308343-e1fd-42b5-8fc5-f8da1b4b695f"
      },
      "execution_count": null,
      "outputs": [
        {
          "output_type": "stream",
          "name": "stdout",
          "text": [
            "Looking in indexes: https://pypi.org/simple, https://us-python.pkg.dev/colab-wheels/public/simple/\n",
            "Requirement already satisfied: optuna in /usr/local/lib/python3.8/dist-packages (3.0.4)\n",
            "Requirement already satisfied: importlib-metadata<5.0.0 in /usr/local/lib/python3.8/dist-packages (from optuna) (4.13.0)\n",
            "Requirement already satisfied: sqlalchemy>=1.3.0 in /usr/local/lib/python3.8/dist-packages (from optuna) (1.4.44)\n",
            "Requirement already satisfied: packaging>=20.0 in /usr/local/lib/python3.8/dist-packages (from optuna) (21.3)\n",
            "Requirement already satisfied: cmaes>=0.8.2 in /usr/local/lib/python3.8/dist-packages (from optuna) (0.9.0)\n",
            "Requirement already satisfied: alembic>=1.5.0 in /usr/local/lib/python3.8/dist-packages (from optuna) (1.8.1)\n",
            "Requirement already satisfied: numpy in /usr/local/lib/python3.8/dist-packages (from optuna) (1.21.6)\n",
            "Requirement already satisfied: tqdm in /usr/local/lib/python3.8/dist-packages (from optuna) (4.64.1)\n",
            "Requirement already satisfied: colorlog in /usr/local/lib/python3.8/dist-packages (from optuna) (6.7.0)\n",
            "Requirement already satisfied: cliff in /usr/local/lib/python3.8/dist-packages (from optuna) (4.1.0)\n",
            "Requirement already satisfied: PyYAML in /usr/local/lib/python3.8/dist-packages (from optuna) (6.0)\n",
            "Requirement already satisfied: scipy<1.9.0,>=1.7.0 in /usr/local/lib/python3.8/dist-packages (from optuna) (1.7.3)\n",
            "Requirement already satisfied: importlib-resources in /usr/local/lib/python3.8/dist-packages (from alembic>=1.5.0->optuna) (5.10.0)\n",
            "Requirement already satisfied: Mako in /usr/local/lib/python3.8/dist-packages (from alembic>=1.5.0->optuna) (1.2.4)\n",
            "Requirement already satisfied: zipp>=0.5 in /usr/local/lib/python3.8/dist-packages (from importlib-metadata<5.0.0->optuna) (3.11.0)\n",
            "Requirement already satisfied: pyparsing!=3.0.5,>=2.0.2 in /usr/local/lib/python3.8/dist-packages (from packaging>=20.0->optuna) (3.0.9)\n",
            "Requirement already satisfied: greenlet!=0.4.17 in /usr/local/lib/python3.8/dist-packages (from sqlalchemy>=1.3.0->optuna) (2.0.1)\n",
            "Requirement already satisfied: cmd2>=1.0.0 in /usr/local/lib/python3.8/dist-packages (from cliff->optuna) (2.4.2)\n",
            "Requirement already satisfied: PrettyTable>=0.7.2 in /usr/local/lib/python3.8/dist-packages (from cliff->optuna) (3.5.0)\n",
            "Requirement already satisfied: autopage>=0.4.0 in /usr/local/lib/python3.8/dist-packages (from cliff->optuna) (0.5.1)\n",
            "Requirement already satisfied: stevedore>=2.0.1 in /usr/local/lib/python3.8/dist-packages (from cliff->optuna) (4.1.1)\n",
            "Requirement already satisfied: attrs>=16.3.0 in /usr/local/lib/python3.8/dist-packages (from cmd2>=1.0.0->cliff->optuna) (22.1.0)\n",
            "Requirement already satisfied: wcwidth>=0.1.7 in /usr/local/lib/python3.8/dist-packages (from cmd2>=1.0.0->cliff->optuna) (0.2.5)\n",
            "Requirement already satisfied: pyperclip>=1.6 in /usr/local/lib/python3.8/dist-packages (from cmd2>=1.0.0->cliff->optuna) (1.8.2)\n",
            "Requirement already satisfied: pbr!=2.1.0,>=2.0.0 in /usr/local/lib/python3.8/dist-packages (from stevedore>=2.0.1->cliff->optuna) (5.11.0)\n",
            "Requirement already satisfied: MarkupSafe>=0.9.2 in /usr/local/lib/python3.8/dist-packages (from Mako->alembic>=1.5.0->optuna) (2.0.1)\n"
          ]
        }
      ]
    },
    {
      "cell_type": "code",
      "execution_count": null,
      "metadata": {
        "colab": {
          "base_uri": "https://localhost:8080/"
        },
        "id": "IHBEC3o_30_H",
        "outputId": "d5e0690c-cdfd-462c-a407-14775ab3b05f"
      },
      "outputs": [
        {
          "output_type": "stream",
          "name": "stdout",
          "text": [
            "Looking in indexes: https://pypi.org/simple, https://us-python.pkg.dev/colab-wheels/public/simple/\n",
            "Collecting rdkit\n",
            "  Downloading rdkit-2022.9.3-cp38-cp38-manylinux_2_17_x86_64.manylinux2014_x86_64.whl (29.3 MB)\n",
            "\u001b[K     |████████████████████████████████| 29.3 MB 1.6 MB/s \n",
            "\u001b[?25hRequirement already satisfied: numpy in /usr/local/lib/python3.8/dist-packages (from rdkit) (1.21.6)\n",
            "Requirement already satisfied: Pillow in /usr/local/lib/python3.8/dist-packages (from rdkit) (7.1.2)\n",
            "Installing collected packages: rdkit\n",
            "Successfully installed rdkit-2022.9.3\n"
          ]
        }
      ],
      "source": [
        "!pip install rdkit"
      ]
    },
    {
      "cell_type": "code",
      "source": [
        "!curl -Lo tox21_10k_all.sdf.zip https://bit.ly/2T6beHP\n",
        "!unzip tox21_10k_all.sdf.zip"
      ],
      "metadata": {
        "colab": {
          "base_uri": "https://localhost:8080/"
        },
        "id": "qGg2KHGi4rpF",
        "outputId": "f695c151-1a72-4be8-c655-ba7fb6be26e5"
      },
      "execution_count": null,
      "outputs": [
        {
          "output_type": "stream",
          "name": "stdout",
          "text": [
            "  % Total    % Received % Xferd  Average Speed   Time    Time     Time  Current\n",
            "                                 Dload  Upload   Total   Spent    Left  Speed\n",
            "100   168  100   168    0     0    721      0 --:--:-- --:--:-- --:--:--   721\n",
            "100 2565k    0 2565k    0     0   400k      0 --:--:--  0:00:06 --:--:--  598k\n",
            "Archive:  tox21_10k_all.sdf.zip\n",
            "  inflating: tox21_10k_data_all.sdf  \n"
          ]
        }
      ]
    },
    {
      "cell_type": "code",
      "source": [
        "from rdkit import Chem\n",
        "\n",
        "sup = Chem.SDMolSupplier('tox21_10k_data_all.sdf')\n",
        "train = [mol for mol in sup \n",
        "         if mol is not None and 'NR-AR' in mol.GetPropsAsDict()]"
      ],
      "metadata": {
        "id": "cy33Y58Y4yhi"
      },
      "execution_count": null,
      "outputs": []
    },
    {
      "cell_type": "code",
      "source": [
        "from rdkit.Chem import Draw\n",
        "\n",
        "display(Draw.MolToImage(train[400]))"
      ],
      "metadata": {
        "colab": {
          "base_uri": "https://localhost:8080/",
          "height": 317
        },
        "id": "rse9N_BJ429I",
        "outputId": "824fbb1b-15f6-42a7-edca-499f8a86944c"
      },
      "execution_count": null,
      "outputs": [
        {
          "output_type": "display_data",
          "data": {
            "text/plain": [
              "<PIL.PngImagePlugin.PngImageFile image mode=RGB size=300x300 at 0x7FF826031790>"
            ],
            "image/png": "[encoded data removed]"
          },
          "metadata": {}
        }
      ]
    },
    {
      "cell_type": "code",
      "source": [
        "import numpy as np\n",
        "from rdkit.Chem import AllChem\n",
        "from rdkit import DataStructs\n",
        "\n",
        "X = [ AllChem.GetMorganFingerprintAsBitVect(m, 2) for m in train]\n",
        "X = [ np.asarray(x) for x in X]\n",
        "X = np.vstack(X)\n",
        "\n",
        "y = [m.GetIntProp('NR-AR') for m in train]\n",
        "y = np.array(y)\n",
        "\n",
        "print('X:', X.shape, 'y:', y.shape)"
      ],
      "metadata": {
        "colab": {
          "base_uri": "https://localhost:8080/"
        },
        "id": "3Nq9BPpZ47zy",
        "outputId": "a832b838-32c0-4228-9841-dea6dcf3201d"
      },
      "execution_count": null,
      "outputs": [
        {
          "output_type": "stream",
          "name": "stdout",
          "text": [
            "X: (9358, 2048) y: (9358,)\n"
          ]
        }
      ]
    },
    {
      "cell_type": "markdown",
      "source": [
        "# テストと訓練データの分割"
      ],
      "metadata": {
        "id": "gVw_qokHJfFI"
      }
    },
    {
      "cell_type": "code",
      "source": [
        "from sklearn.model_selection import train_test_split\n",
        "\n",
        "X_train, X_test, y_train, y_test = train_test_split(\n",
        "    X, y, test_size=0.3, random_state=1, stratify=y)\n",
        "print('Labels counts in y:', np.bincount(y))\n",
        "print('Labels counts in y_train:', np.bincount(y_train))\n",
        "print('Labels counts in y_test:', np.bincount(y_test))"
      ],
      "metadata": {
        "colab": {
          "base_uri": "https://localhost:8080/"
        },
        "id": "qlcDXXk_5Err",
        "outputId": "387c77f7-2245-4c46-dfb8-099ec3598642"
      },
      "execution_count": null,
      "outputs": [
        {
          "output_type": "stream",
          "name": "stdout",
          "text": [
            "Labels counts in y: [8978  380]\n",
            "Labels counts in y_train: [6284  266]\n",
            "Labels counts in y_test: [2694  114]\n"
          ]
        }
      ]
    },
    {
      "cell_type": "markdown",
      "source": [
        "# 学習モデルの構築：ここをいじる\n",
        "アンサンブル法を試してみる。弱分類器を沢山用意して、機械学習の多数決で最終判断を下す。"
      ],
      "metadata": {
        "id": "XG9dVUELJzql"
      }
    },
    {
      "cell_type": "code",
      "source": [
        "seed = 0\n",
        "\n",
        "kfold = model_selection.KFold(n_splits = 5) \n",
        "scores = {}"
      ],
      "metadata": {
        "id": "Ynb82LryYlgJ"
      },
      "execution_count": null,
      "outputs": []
    },
    {
      "cell_type": "markdown",
      "source": [
        "# パラメータ指定無しのLightGBM\n",
        "Acc: 0.9750712250712251\\\n",
        "F: 0.6236559139784946"
      ],
      "metadata": {
        "id": "MKNS1OBSNesu"
      }
    },
    {
      "cell_type": "code",
      "source": [
        "# モデルの学習\n",
        "model = lgb.LGBMClassifier() # モデルのインスタンスの作成\n",
        "model.fit(X_train, y_train) # モデルの学習\n",
        "\n",
        "# テストデータの予測クラス (予測クラス(0 or 1)を返す)\n",
        "y_pred = model.predict(X_test)\n",
        "# テストデータのクラス予測確率 (各クラスの予測確率 [クラス0の予測確率,クラス1の予測確率] を返す)\n",
        "y_pred_prob = model.predict_proba(X_test)"
      ],
      "metadata": {
        "id": "RMfDatPO5OoJ"
      },
      "execution_count": null,
      "outputs": []
    },
    {
      "cell_type": "markdown",
      "source": [
        "# パラメータを指定したLightGBMは少しだけ向上\n",
        "Acc: 0.9779202279202279\\\n",
        "F: 0.6352941176470588\n",
        "\n",
        "# Optuna使用\n",
        "Acc: 0.9782763532763533\\\n",
        "F: 0.6390532544378698"
      ],
      "metadata": {
        "id": "fEM3TIuQNMYa"
      }
    },
    {
      "cell_type": "code",
      "source": [
        "# 学習に使用するデータを設定\n",
        "lgb_train = lgb.Dataset(X_train, y_train)\n",
        "lgb_eval = lgb.Dataset(X_test, y_test, reference=lgb_train)\n",
        "\n",
        "# LightGBM parameters\n",
        "params = {\n",
        "        'task': 'train',\n",
        "        'boosting_type': 'gbdt',\n",
        "        'objective': 'binary', # 目的 : 2値分類 \n",
        "        'metric': 'binary_error', # 評価指標 : 誤り率(= 1-正答率) \n",
        "        #他には 'binary_logloss','auc'など\n",
        "        'learning_rate': 0.1,\n",
        "        'num_leaves': 23,           \n",
        "        'min_data_in_leaf': 1,\n",
        "        'num_iteration': 1000, #1000回学習\n",
        "        'verbose': 0\n",
        "}\n",
        "\n",
        "# モデルの学習\n",
        "gbm = lgb.train(params, # パラメータ\n",
        "            train_set=lgb_train, # トレーニングデータの指定\n",
        "            valid_sets=lgb_eval, # 検証データの指定\n",
        "            early_stopping_rounds=100 # 100回ごとに検証精度の改善を検討　→ 精度が改善しないなら学習を終了(過学習に陥るのを防ぐ)\n",
        "               )\n",
        "\n",
        "# テストデータの予測 (クラス1の予測確率(クラス1である確率)を返す)\n",
        "y_pred_prob = model.predict(X_test)\n",
        "# テストデータの予測\n",
        "y_pred = np.where(y_pred_prob < 0.5, 0, 1) # 0.5より小さい場合0 ,そうでない場合1を返す\n",
        "\n",
        "results = model_selection.cross_val_score(gbm, X_test, y_test, cv = kfold)\n",
        "scores[('1.LightGBM', 'train_score')] = results.mean()\n",
        "scores[('1.LightGBM', 'test_score')] = gbm.score(X_test, y_test)"
      ],
      "metadata": {
        "colab": {
          "base_uri": "https://localhost:8080/"
        },
        "id": "f9nGqNAdL_3A",
        "outputId": "e66c7bea-5994-4b24-eedb-ae2b7ac8017f"
      },
      "execution_count": null,
      "outputs": [
        {
          "output_type": "stream",
          "name": "stderr",
          "text": [
            "\u001b[32m[I 2022-12-13 11:28:17,568]\u001b[0m A new study created in memory with name: no-name-f8b24579-28da-435e-b0f4-ce319615fbef\u001b[0m\n",
            "\n",
            "  0%|          | 0/7 [00:00<?, ?it/s]\u001b[A\n",
            "feature_fraction, val_score: inf:   0%|          | 0/7 [00:00<?, ?it/s]\u001b[A"
          ]
        },
        {
          "output_type": "stream",
          "name": "stdout",
          "text": [
            "Training until validation scores don't improve for 100 rounds.\n"
          ]
        },
        {
          "output_type": "stream",
          "name": "stderr",
          "text": [
            "\n",
            "feature_fraction, val_score: 0.022792:   0%|          | 0/7 [00:04<?, ?it/s]\u001b[A\n",
            "feature_fraction, val_score: 0.022792:  14%|#4        | 1/7 [00:04<00:24,  4.16s/it]\u001b[A\u001b[32m[I 2022-12-13 11:28:21,765]\u001b[0m Trial 0 finished with value: 0.022792022792022793 and parameters: {'feature_fraction': 0.6}. Best is trial 0 with value: 0.022792022792022793.\u001b[0m\n",
            "\n",
            "feature_fraction, val_score: 0.022792:  14%|#4        | 1/7 [00:04<00:24,  4.16s/it]\u001b[A"
          ]
        },
        {
          "output_type": "stream",
          "name": "stdout",
          "text": [
            "Early stopping, best iteration is:\n",
            "[6]\tvalid_0's binary_error: 0.022792\n",
            "Training until validation scores don't improve for 100 rounds.\n"
          ]
        },
        {
          "output_type": "stream",
          "name": "stderr",
          "text": [
            "\n",
            "feature_fraction, val_score: 0.022080:  14%|#4        | 1/7 [00:05<00:24,  4.16s/it]\u001b[A\n",
            "feature_fraction, val_score: 0.022080:  29%|##8       | 2/7 [00:05<00:13,  2.78s/it]\u001b[A\u001b[32m[I 2022-12-13 11:28:23,571]\u001b[0m Trial 1 finished with value: 0.02207977207977208 and parameters: {'feature_fraction': 1.0}. Best is trial 1 with value: 0.02207977207977208.\u001b[0m\n",
            "\n",
            "feature_fraction, val_score: 0.022080:  29%|##8       | 2/7 [00:05<00:13,  2.78s/it]\u001b[A"
          ]
        },
        {
          "output_type": "stream",
          "name": "stdout",
          "text": [
            "Early stopping, best iteration is:\n",
            "[5]\tvalid_0's binary_error: 0.0220798\n",
            "Training until validation scores don't improve for 100 rounds.\n"
          ]
        },
        {
          "output_type": "stream",
          "name": "stderr",
          "text": [
            "\n",
            "feature_fraction, val_score: 0.022080:  29%|##8       | 2/7 [00:07<00:13,  2.78s/it]\u001b[A\n",
            "feature_fraction, val_score: 0.022080:  43%|####2     | 3/7 [00:07<00:09,  2.33s/it]\u001b[A\u001b[32m[I 2022-12-13 11:28:25,366]\u001b[0m Trial 2 finished with value: 0.023148148148148147 and parameters: {'feature_fraction': 0.8}. Best is trial 1 with value: 0.02207977207977208.\u001b[0m\n",
            "\n",
            "feature_fraction, val_score: 0.022080:  43%|####2     | 3/7 [00:07<00:09,  2.33s/it]\u001b[A"
          ]
        },
        {
          "output_type": "stream",
          "name": "stdout",
          "text": [
            "Early stopping, best iteration is:\n",
            "[8]\tvalid_0's binary_error: 0.0231481\n",
            "Training until validation scores don't improve for 100 rounds.\n"
          ]
        },
        {
          "output_type": "stream",
          "name": "stderr",
          "text": [
            "\n",
            "feature_fraction, val_score: 0.022080:  43%|####2     | 3/7 [00:09<00:09,  2.33s/it]\u001b[A\n",
            "feature_fraction, val_score: 0.022080:  57%|#####7    | 4/7 [00:09<00:06,  2.12s/it]\u001b[A\u001b[32m[I 2022-12-13 11:28:27,168]\u001b[0m Trial 3 finished with value: 0.02207977207977208 and parameters: {'feature_fraction': 0.8999999999999999}. Best is trial 1 with value: 0.02207977207977208.\u001b[0m\n",
            "\n",
            "feature_fraction, val_score: 0.022080:  57%|#####7    | 4/7 [00:09<00:06,  2.12s/it]\u001b[A"
          ]
        },
        {
          "output_type": "stream",
          "name": "stdout",
          "text": [
            "Early stopping, best iteration is:\n",
            "[5]\tvalid_0's binary_error: 0.0220798\n",
            "Training until validation scores don't improve for 100 rounds.\n"
          ]
        },
        {
          "output_type": "stream",
          "name": "stderr",
          "text": [
            "\n",
            "feature_fraction, val_score: 0.022080:  57%|#####7    | 4/7 [00:11<00:06,  2.12s/it]\u001b[A\n",
            "feature_fraction, val_score: 0.022080:  71%|#######1  | 5/7 [00:11<00:04,  2.02s/it]\u001b[A\u001b[32m[I 2022-12-13 11:28:29,020]\u001b[0m Trial 4 finished with value: 0.022435897435897436 and parameters: {'feature_fraction': 0.7}. Best is trial 1 with value: 0.02207977207977208.\u001b[0m\n",
            "\n",
            "feature_fraction, val_score: 0.022080:  71%|#######1  | 5/7 [00:11<00:04,  2.02s/it]\u001b[A"
          ]
        },
        {
          "output_type": "stream",
          "name": "stdout",
          "text": [
            "Early stopping, best iteration is:\n",
            "[8]\tvalid_0's binary_error: 0.0224359\n",
            "Training until validation scores don't improve for 100 rounds.\n"
          ]
        },
        {
          "output_type": "stream",
          "name": "stderr",
          "text": [
            "\n",
            "feature_fraction, val_score: 0.022080:  71%|#######1  | 5/7 [00:13<00:04,  2.02s/it]\u001b[A\n",
            "feature_fraction, val_score: 0.022080:  86%|########5 | 6/7 [00:13<00:01,  1.89s/it]\u001b[A\u001b[32m[I 2022-12-13 11:28:30,648]\u001b[0m Trial 5 finished with value: 0.023148148148148147 and parameters: {'feature_fraction': 0.5}. Best is trial 1 with value: 0.02207977207977208.\u001b[0m\n",
            "\n",
            "feature_fraction, val_score: 0.022080:  86%|########5 | 6/7 [00:13<00:01,  1.89s/it]\u001b[A"
          ]
        },
        {
          "output_type": "stream",
          "name": "stdout",
          "text": [
            "Early stopping, best iteration is:\n",
            "[10]\tvalid_0's binary_error: 0.0231481\n",
            "Training until validation scores don't improve for 100 rounds.\n"
          ]
        },
        {
          "output_type": "stream",
          "name": "stderr",
          "text": [
            "\n",
            "feature_fraction, val_score: 0.022080:  86%|########5 | 6/7 [00:14<00:01,  1.89s/it]\u001b[A\n",
            "feature_fraction, val_score: 0.022080: 100%|##########| 7/7 [00:14<00:00,  1.79s/it]\u001b[A\u001b[32m[I 2022-12-13 11:28:32,232]\u001b[0m Trial 6 finished with value: 0.02386039886039886 and parameters: {'feature_fraction': 0.4}. Best is trial 1 with value: 0.02207977207977208.\u001b[0m\n",
            "feature_fraction, val_score: 0.022080: 100%|##########| 7/7 [00:14<00:00,  2.09s/it]\n"
          ]
        },
        {
          "output_type": "stream",
          "name": "stdout",
          "text": [
            "Early stopping, best iteration is:\n",
            "[6]\tvalid_0's binary_error: 0.0238604\n"
          ]
        },
        {
          "output_type": "stream",
          "name": "stderr",
          "text": [
            "\n",
            "  0%|          | 0/20 [00:00<?, ?it/s]\u001b[A\n",
            "num_leaves, val_score: 0.022080:   0%|          | 0/20 [00:00<?, ?it/s]\u001b[A"
          ]
        },
        {
          "output_type": "stream",
          "name": "stdout",
          "text": [
            "Training until validation scores don't improve for 100 rounds.\n"
          ]
        },
        {
          "output_type": "stream",
          "name": "stderr",
          "text": [
            "\n",
            "num_leaves, val_score: 0.022080:   0%|          | 0/20 [00:04<?, ?it/s]\u001b[A\n",
            "num_leaves, val_score: 0.022080:   5%|5         | 1/20 [00:04<01:18,  4.13s/it]\u001b[A\u001b[32m[I 2022-12-13 11:28:36,388]\u001b[0m Trial 7 finished with value: 0.022435897435897436 and parameters: {'num_leaves': 72}. Best is trial 7 with value: 0.022435897435897436.\u001b[0m\n",
            "\n",
            "num_leaves, val_score: 0.022080:   5%|5         | 1/20 [00:04<01:18,  4.13s/it]\u001b[A"
          ]
        },
        {
          "output_type": "stream",
          "name": "stdout",
          "text": [
            "Early stopping, best iteration is:\n",
            "[6]\tvalid_0's binary_error: 0.0224359\n",
            "Training until validation scores don't improve for 100 rounds.\n"
          ]
        },
        {
          "output_type": "stream",
          "name": "stderr",
          "text": [
            "\n",
            "num_leaves, val_score: 0.022080:   5%|5         | 1/20 [00:05<01:18,  4.13s/it]\u001b[A\n",
            "num_leaves, val_score: 0.022080:  10%|#         | 2/20 [00:05<00:49,  2.73s/it]\u001b[A\u001b[32m[I 2022-12-13 11:28:38,139]\u001b[0m Trial 8 finished with value: 0.02207977207977208 and parameters: {'num_leaves': 20}. Best is trial 8 with value: 0.02207977207977208.\u001b[0m\n",
            "\n",
            "num_leaves, val_score: 0.022080:  10%|#         | 2/20 [00:05<00:49,  2.73s/it]\u001b[A"
          ]
        },
        {
          "output_type": "stream",
          "name": "stdout",
          "text": [
            "Early stopping, best iteration is:\n",
            "[5]\tvalid_0's binary_error: 0.0220798\n",
            "Training until validation scores don't improve for 100 rounds.\n"
          ]
        },
        {
          "output_type": "stream",
          "name": "stderr",
          "text": [
            "\n",
            "num_leaves, val_score: 0.022080:  10%|#         | 2/20 [00:11<00:49,  2.73s/it]\u001b[A\n",
            "num_leaves, val_score: 0.022080:  15%|#5        | 3/20 [00:11<01:09,  4.11s/it]\u001b[A\u001b[32m[I 2022-12-13 11:28:43,883]\u001b[0m Trial 9 finished with value: 0.02492877492877493 and parameters: {'num_leaves': 126}. Best is trial 8 with value: 0.02207977207977208.\u001b[0m\n",
            "\n",
            "num_leaves, val_score: 0.022080:  15%|#5        | 3/20 [00:11<01:09,  4.11s/it]\u001b[A"
          ]
        },
        {
          "output_type": "stream",
          "name": "stdout",
          "text": [
            "Early stopping, best iteration is:\n",
            "[4]\tvalid_0's binary_error: 0.0249288\n",
            "Training until validation scores don't improve for 100 rounds.\n"
          ]
        },
        {
          "output_type": "stream",
          "name": "stderr",
          "text": [
            "\n",
            "num_leaves, val_score: 0.022080:  15%|#5        | 3/20 [00:21<01:09,  4.11s/it]\u001b[A\n",
            "num_leaves, val_score: 0.022080:  20%|##        | 4/20 [00:21<01:40,  6.29s/it]\u001b[A\u001b[32m[I 2022-12-13 11:28:53,514]\u001b[0m Trial 10 finished with value: 0.025997150997150997 and parameters: {'num_leaves': 160}. Best is trial 8 with value: 0.02207977207977208.\u001b[0m\n",
            "\n",
            "num_leaves, val_score: 0.022080:  20%|##        | 4/20 [00:21<01:40,  6.29s/it]\u001b[A"
          ]
        },
        {
          "output_type": "stream",
          "name": "stdout",
          "text": [
            "Early stopping, best iteration is:\n",
            "[4]\tvalid_0's binary_error: 0.0259972\n",
            "Training until validation scores don't improve for 100 rounds.\n"
          ]
        },
        {
          "output_type": "stream",
          "name": "stderr",
          "text": [
            "\n",
            "num_leaves, val_score: 0.022080:  20%|##        | 4/20 [00:40<01:40,  6.29s/it]\u001b[A\n",
            "num_leaves, val_score: 0.022080:  25%|##5       | 5/20 [00:40<02:43, 10.91s/it]\u001b[A\u001b[32m[I 2022-12-13 11:29:12,618]\u001b[0m Trial 11 finished with value: 0.026353276353276354 and parameters: {'num_leaves': 183}. Best is trial 8 with value: 0.02207977207977208.\u001b[0m\n",
            "\n",
            "num_leaves, val_score: 0.022080:  25%|##5       | 5/20 [00:40<02:43, 10.91s/it]\u001b[A"
          ]
        },
        {
          "output_type": "stream",
          "name": "stdout",
          "text": [
            "Early stopping, best iteration is:\n",
            "[4]\tvalid_0's binary_error: 0.0263533\n",
            "Training until validation scores don't improve for 100 rounds.\n"
          ]
        },
        {
          "output_type": "stream",
          "name": "stderr",
          "text": [
            "\n",
            "num_leaves, val_score: 0.022080:  25%|##5       | 5/20 [00:47<02:43, 10.91s/it]\u001b[A\n",
            "num_leaves, val_score: 0.022080:  30%|###       | 6/20 [00:47<02:14,  9.61s/it]\u001b[A\u001b[32m[I 2022-12-13 11:29:19,710]\u001b[0m Trial 12 finished with value: 0.022792022792022793 and parameters: {'num_leaves': 77}. Best is trial 8 with value: 0.02207977207977208.\u001b[0m\n",
            "\n",
            "num_leaves, val_score: 0.022080:  30%|###       | 6/20 [00:47<02:14,  9.61s/it]\u001b[A"
          ]
        },
        {
          "output_type": "stream",
          "name": "stdout",
          "text": [
            "Early stopping, best iteration is:\n",
            "[5]\tvalid_0's binary_error: 0.022792\n",
            "Training until validation scores don't improve for 100 rounds.\n"
          ]
        },
        {
          "output_type": "stream",
          "name": "stderr",
          "text": [
            "\n",
            "num_leaves, val_score: 0.022080:  30%|###       | 6/20 [00:48<02:14,  9.61s/it]\u001b[A\n",
            "num_leaves, val_score: 0.022080:  35%|###5      | 7/20 [00:48<01:27,  6.74s/it]\u001b[A\u001b[32m[I 2022-12-13 11:29:20,532]\u001b[0m Trial 13 finished with value: 0.02492877492877493 and parameters: {'num_leaves': 3}. Best is trial 8 with value: 0.02207977207977208.\u001b[0m\n",
            "\n",
            "num_leaves, val_score: 0.022080:  35%|###5      | 7/20 [00:48<01:27,  6.74s/it]\u001b[A"
          ]
        },
        {
          "output_type": "stream",
          "name": "stdout",
          "text": [
            "Early stopping, best iteration is:\n",
            "[45]\tvalid_0's binary_error: 0.0249288\n",
            "Training until validation scores don't improve for 100 rounds.\n"
          ]
        },
        {
          "output_type": "stream",
          "name": "stderr",
          "text": [
            "\n",
            "num_leaves, val_score: 0.022080:  35%|###5      | 7/20 [00:54<01:27,  6.74s/it]\u001b[A\n",
            "num_leaves, val_score: 0.022080:  40%|####      | 8/20 [00:54<01:20,  6.70s/it]\u001b[A\u001b[32m[I 2022-12-13 11:29:27,153]\u001b[0m Trial 14 finished with value: 0.026353276353276354 and parameters: {'num_leaves': 183}. Best is trial 8 with value: 0.02207977207977208.\u001b[0m\n",
            "\n",
            "num_leaves, val_score: 0.022080:  40%|####      | 8/20 [00:54<01:20,  6.70s/it]\u001b[A"
          ]
        },
        {
          "output_type": "stream",
          "name": "stdout",
          "text": [
            "Early stopping, best iteration is:\n",
            "[4]\tvalid_0's binary_error: 0.0263533\n",
            "Training until validation scores don't improve for 100 rounds.\n"
          ]
        },
        {
          "output_type": "stream",
          "name": "stderr",
          "text": [
            "\n",
            "num_leaves, val_score: 0.022080:  40%|####      | 8/20 [01:01<01:20,  6.70s/it]\u001b[A\n",
            "num_leaves, val_score: 0.022080:  45%|####5     | 9/20 [01:01<01:12,  6.57s/it]\u001b[A\u001b[32m[I 2022-12-13 11:29:33,431]\u001b[0m Trial 15 finished with value: 0.025997150997150997 and parameters: {'num_leaves': 157}. Best is trial 8 with value: 0.02207977207977208.\u001b[0m\n",
            "\n",
            "num_leaves, val_score: 0.022080:  45%|####5     | 9/20 [01:01<01:12,  6.57s/it]\u001b[A"
          ]
        },
        {
          "output_type": "stream",
          "name": "stdout",
          "text": [
            "Early stopping, best iteration is:\n",
            "[4]\tvalid_0's binary_error: 0.0259972\n",
            "Training until validation scores don't improve for 100 rounds.\n"
          ]
        },
        {
          "output_type": "stream",
          "name": "stderr",
          "text": [
            "\n",
            "num_leaves, val_score: 0.022080:  45%|####5     | 9/20 [01:03<01:12,  6.57s/it]\u001b[A\n",
            "num_leaves, val_score: 0.022080:  50%|#####     | 10/20 [01:03<00:53,  5.31s/it]\u001b[A\u001b[32m[I 2022-12-13 11:29:35,924]\u001b[0m Trial 16 finished with value: 0.02207977207977208 and parameters: {'num_leaves': 34}. Best is trial 8 with value: 0.02207977207977208.\u001b[0m\n",
            "\n",
            "num_leaves, val_score: 0.022080:  50%|#####     | 10/20 [01:03<00:53,  5.31s/it]\u001b[A"
          ]
        },
        {
          "output_type": "stream",
          "name": "stdout",
          "text": [
            "Early stopping, best iteration is:\n",
            "[5]\tvalid_0's binary_error: 0.0220798\n",
            "Training until validation scores don't improve for 100 rounds.\n"
          ]
        },
        {
          "output_type": "stream",
          "name": "stderr",
          "text": [
            "\n",
            "num_leaves, val_score: 0.022080:  50%|#####     | 10/20 [01:10<00:53,  5.31s/it]\u001b[A\n",
            "num_leaves, val_score: 0.022080:  55%|#####5    | 11/20 [01:10<00:52,  5.86s/it]\u001b[A\u001b[32m[I 2022-12-13 11:29:43,030]\u001b[0m Trial 17 finished with value: 0.026709401709401708 and parameters: {'num_leaves': 230}. Best is trial 8 with value: 0.02207977207977208.\u001b[0m\n",
            "\n",
            "num_leaves, val_score: 0.022080:  55%|#####5    | 11/20 [01:10<00:52,  5.86s/it]\u001b[A"
          ]
        },
        {
          "output_type": "stream",
          "name": "stdout",
          "text": [
            "Early stopping, best iteration is:\n",
            "[16]\tvalid_0's binary_error: 0.0267094\n",
            "Training until validation scores don't improve for 100 rounds.\n"
          ]
        },
        {
          "output_type": "stream",
          "name": "stderr",
          "text": [
            "\n",
            "num_leaves, val_score: 0.022080:  55%|#####5    | 11/20 [01:11<00:52,  5.86s/it]\u001b[A\n",
            "num_leaves, val_score: 0.022080:  60%|######    | 12/20 [01:11<00:34,  4.33s/it]\u001b[A\u001b[32m[I 2022-12-13 11:29:43,856]\u001b[0m Trial 18 finished with value: 0.02492877492877493 and parameters: {'num_leaves': 3}. Best is trial 8 with value: 0.02207977207977208.\u001b[0m\n",
            "\n",
            "num_leaves, val_score: 0.022080:  60%|######    | 12/20 [01:11<00:34,  4.33s/it]\u001b[A"
          ]
        },
        {
          "output_type": "stream",
          "name": "stdout",
          "text": [
            "Early stopping, best iteration is:\n",
            "[45]\tvalid_0's binary_error: 0.0249288\n",
            "Training until validation scores don't improve for 100 rounds.\n"
          ]
        },
        {
          "output_type": "stream",
          "name": "stderr",
          "text": [
            "\n",
            "num_leaves, val_score: 0.021724:  60%|######    | 12/20 [01:15<00:34,  4.33s/it]\u001b[A\n",
            "num_leaves, val_score: 0.021724:  65%|######5   | 13/20 [01:15<00:28,  4.08s/it]\u001b[A\u001b[32m[I 2022-12-13 11:29:47,353]\u001b[0m Trial 19 finished with value: 0.021723646723646725 and parameters: {'num_leaves': 55}. Best is trial 19 with value: 0.021723646723646725.\u001b[0m\n",
            "\n",
            "num_leaves, val_score: 0.021724:  65%|######5   | 13/20 [01:15<00:28,  4.08s/it]\u001b[A"
          ]
        },
        {
          "output_type": "stream",
          "name": "stdout",
          "text": [
            "Early stopping, best iteration is:\n",
            "[5]\tvalid_0's binary_error: 0.0217236\n",
            "Training until validation scores don't improve for 100 rounds.\n"
          ]
        },
        {
          "output_type": "stream",
          "name": "stderr",
          "text": [
            "\n",
            "num_leaves, val_score: 0.021724:  65%|######5   | 13/20 [01:19<00:28,  4.08s/it]\u001b[A\n",
            "num_leaves, val_score: 0.021724:  70%|#######   | 14/20 [01:19<00:24,  4.04s/it]\u001b[A\u001b[32m[I 2022-12-13 11:29:51,323]\u001b[0m Trial 20 finished with value: 0.02207977207977208 and parameters: {'num_leaves': 66}. Best is trial 19 with value: 0.021723646723646725.\u001b[0m\n",
            "\n",
            "num_leaves, val_score: 0.021724:  70%|#######   | 14/20 [01:19<00:24,  4.04s/it]\u001b[A"
          ]
        },
        {
          "output_type": "stream",
          "name": "stdout",
          "text": [
            "Early stopping, best iteration is:\n",
            "[6]\tvalid_0's binary_error: 0.0220798\n",
            "Training until validation scores don't improve for 100 rounds.\n"
          ]
        },
        {
          "output_type": "stream",
          "name": "stderr",
          "text": [
            "\n",
            "num_leaves, val_score: 0.021724:  70%|#######   | 14/20 [01:25<00:24,  4.04s/it]\u001b[A\n",
            "num_leaves, val_score: 0.021724:  75%|#######5  | 15/20 [01:25<00:24,  4.89s/it]\u001b[A\u001b[32m[I 2022-12-13 11:29:58,160]\u001b[0m Trial 21 finished with value: 0.025284900284900286 and parameters: {'num_leaves': 101}. Best is trial 19 with value: 0.021723646723646725.\u001b[0m\n",
            "\n",
            "num_leaves, val_score: 0.021724:  75%|#######5  | 15/20 [01:25<00:24,  4.89s/it]\u001b[A"
          ]
        },
        {
          "output_type": "stream",
          "name": "stdout",
          "text": [
            "Early stopping, best iteration is:\n",
            "[41]\tvalid_0's binary_error: 0.0252849\n",
            "Training until validation scores don't improve for 100 rounds.\n"
          ]
        },
        {
          "output_type": "stream",
          "name": "stderr",
          "text": [
            "\n",
            "num_leaves, val_score: 0.021724:  75%|#######5  | 15/20 [01:29<00:24,  4.89s/it]\u001b[A\n",
            "num_leaves, val_score: 0.021724:  80%|########  | 16/20 [01:29<00:17,  4.37s/it]\u001b[A\u001b[32m[I 2022-12-13 11:30:01,317]\u001b[0m Trial 22 finished with value: 0.02207977207977208 and parameters: {'num_leaves': 47}. Best is trial 19 with value: 0.021723646723646725.\u001b[0m\n",
            "\n",
            "num_leaves, val_score: 0.021724:  80%|########  | 16/20 [01:29<00:17,  4.37s/it]\u001b[A"
          ]
        },
        {
          "output_type": "stream",
          "name": "stdout",
          "text": [
            "Early stopping, best iteration is:\n",
            "[5]\tvalid_0's binary_error: 0.0220798\n",
            "Training until validation scores don't improve for 100 rounds.\n"
          ]
        },
        {
          "output_type": "stream",
          "name": "stderr",
          "text": [
            "\n",
            "num_leaves, val_score: 0.021724:  80%|########  | 16/20 [01:31<00:17,  4.37s/it]\u001b[A\n",
            "num_leaves, val_score: 0.021724:  85%|########5 | 17/20 [01:31<00:11,  3.87s/it]\u001b[A\u001b[32m[I 2022-12-13 11:30:04,045]\u001b[0m Trial 23 finished with value: 0.022435897435897436 and parameters: {'num_leaves': 37}. Best is trial 19 with value: 0.021723646723646725.\u001b[0m\n",
            "\n",
            "num_leaves, val_score: 0.021724:  85%|########5 | 17/20 [01:31<00:11,  3.87s/it]\u001b[A"
          ]
        },
        {
          "output_type": "stream",
          "name": "stdout",
          "text": [
            "Early stopping, best iteration is:\n",
            "[5]\tvalid_0's binary_error: 0.0224359\n",
            "Training until validation scores don't improve for 100 rounds.\n"
          ]
        },
        {
          "output_type": "stream",
          "name": "stderr",
          "text": [
            "\n",
            "num_leaves, val_score: 0.021724:  85%|########5 | 17/20 [01:38<00:11,  3.87s/it]\u001b[A\n",
            "num_leaves, val_score: 0.021724:  90%|######### | 18/20 [01:38<00:09,  4.80s/it]\u001b[A\u001b[32m[I 2022-12-13 11:30:11,014]\u001b[0m Trial 24 finished with value: 0.025284900284900286 and parameters: {'num_leaves': 103}. Best is trial 19 with value: 0.021723646723646725.\u001b[0m\n",
            "\n",
            "num_leaves, val_score: 0.021724:  90%|######### | 18/20 [01:38<00:09,  4.80s/it]\u001b[A"
          ]
        },
        {
          "output_type": "stream",
          "name": "stdout",
          "text": [
            "Early stopping, best iteration is:\n",
            "[41]\tvalid_0's binary_error: 0.0252849\n",
            "Training until validation scores don't improve for 100 rounds.\n"
          ]
        },
        {
          "output_type": "stream",
          "name": "stderr",
          "text": [
            "\n",
            "num_leaves, val_score: 0.021724:  90%|######### | 18/20 [01:40<00:09,  4.80s/it]\u001b[A\n",
            "num_leaves, val_score: 0.021724:  95%|#########5| 19/20 [01:40<00:03,  3.93s/it]\u001b[A\u001b[32m[I 2022-12-13 11:30:12,911]\u001b[0m Trial 25 finished with value: 0.02207977207977208 and parameters: {'num_leaves': 21}. Best is trial 19 with value: 0.021723646723646725.\u001b[0m\n",
            "\n",
            "num_leaves, val_score: 0.021724:  95%|#########5| 19/20 [01:40<00:03,  3.93s/it]\u001b[A"
          ]
        },
        {
          "output_type": "stream",
          "name": "stdout",
          "text": [
            "Early stopping, best iteration is:\n",
            "[5]\tvalid_0's binary_error: 0.0220798\n",
            "Training until validation scores don't improve for 100 rounds.\n"
          ]
        },
        {
          "output_type": "stream",
          "name": "stderr",
          "text": [
            "\n",
            "num_leaves, val_score: 0.021724:  95%|#########5| 19/20 [01:47<00:03,  3.93s/it]\u001b[A\n",
            "num_leaves, val_score: 0.021724: 100%|##########| 20/20 [01:47<00:00,  4.85s/it]\u001b[A\u001b[32m[I 2022-12-13 11:30:19,908]\u001b[0m Trial 26 finished with value: 0.025284900284900286 and parameters: {'num_leaves': 101}. Best is trial 19 with value: 0.021723646723646725.\u001b[0m\n",
            "num_leaves, val_score: 0.021724: 100%|##########| 20/20 [01:47<00:00,  5.38s/it]\n"
          ]
        },
        {
          "output_type": "stream",
          "name": "stdout",
          "text": [
            "Early stopping, best iteration is:\n",
            "[41]\tvalid_0's binary_error: 0.0252849\n"
          ]
        },
        {
          "output_type": "stream",
          "name": "stderr",
          "text": [
            "\n",
            "  0%|          | 0/10 [00:00<?, ?it/s]\u001b[A\n",
            "bagging, val_score: 0.021724:   0%|          | 0/10 [00:00<?, ?it/s]\u001b[A"
          ]
        },
        {
          "output_type": "stream",
          "name": "stdout",
          "text": [
            "Training until validation scores don't improve for 100 rounds.\n"
          ]
        },
        {
          "output_type": "stream",
          "name": "stderr",
          "text": [
            "\n",
            "bagging, val_score: 0.021724:   0%|          | 0/10 [00:03<?, ?it/s]\u001b[A\n",
            "bagging, val_score: 0.021724:  10%|#         | 1/10 [00:03<00:27,  3.01s/it]\u001b[A\u001b[32m[I 2022-12-13 11:30:22,957]\u001b[0m Trial 27 finished with value: 0.022792022792022793 and parameters: {'bagging_fraction': 0.7052366925939271, 'bagging_freq': 5}. Best is trial 27 with value: 0.022792022792022793.\u001b[0m\n",
            "\n",
            "bagging, val_score: 0.021724:  10%|#         | 1/10 [00:03<00:27,  3.01s/it]\u001b[A"
          ]
        },
        {
          "output_type": "stream",
          "name": "stdout",
          "text": [
            "Early stopping, best iteration is:\n",
            "[4]\tvalid_0's binary_error: 0.022792\n",
            "Training until validation scores don't improve for 100 rounds.\n"
          ]
        },
        {
          "output_type": "stream",
          "name": "stderr",
          "text": [
            "\n",
            "bagging, val_score: 0.021724:  10%|#         | 1/10 [00:06<00:27,  3.01s/it]\u001b[A\n",
            "bagging, val_score: 0.021724:  20%|##        | 2/10 [00:06<00:25,  3.18s/it]\u001b[A\u001b[32m[I 2022-12-13 11:30:26,258]\u001b[0m Trial 28 finished with value: 0.022792022792022793 and parameters: {'bagging_fraction': 0.8029034810034572, 'bagging_freq': 1}. Best is trial 27 with value: 0.022792022792022793.\u001b[0m\n",
            "\n",
            "bagging, val_score: 0.021724:  20%|##        | 2/10 [00:06<00:25,  3.18s/it]\u001b[A"
          ]
        },
        {
          "output_type": "stream",
          "name": "stdout",
          "text": [
            "Early stopping, best iteration is:\n",
            "[5]\tvalid_0's binary_error: 0.022792\n",
            "Training until validation scores don't improve for 100 rounds.\n"
          ]
        },
        {
          "output_type": "stream",
          "name": "stderr",
          "text": [
            "\n",
            "bagging, val_score: 0.021724:  20%|##        | 2/10 [00:08<00:25,  3.18s/it]\u001b[A\n",
            "bagging, val_score: 0.021724:  30%|###       | 3/10 [00:08<00:20,  2.94s/it]\u001b[A\u001b[32m[I 2022-12-13 11:30:28,911]\u001b[0m Trial 29 finished with value: 0.026353276353276354 and parameters: {'bagging_fraction': 0.44805544626759125, 'bagging_freq': 4}. Best is trial 27 with value: 0.022792022792022793.\u001b[0m\n",
            "\n",
            "bagging, val_score: 0.021724:  30%|###       | 3/10 [00:08<00:20,  2.94s/it]\u001b[A"
          ]
        },
        {
          "output_type": "stream",
          "name": "stdout",
          "text": [
            "Early stopping, best iteration is:\n",
            "[28]\tvalid_0's binary_error: 0.0263533\n",
            "Training until validation scores don't improve for 100 rounds.\n"
          ]
        },
        {
          "output_type": "stream",
          "name": "stderr",
          "text": [
            "\n",
            "bagging, val_score: 0.021724:  30%|###       | 3/10 [00:12<00:20,  2.94s/it]\u001b[A\n",
            "bagging, val_score: 0.021724:  40%|####      | 4/10 [00:12<00:18,  3.08s/it]\u001b[A\u001b[32m[I 2022-12-13 11:30:32,206]\u001b[0m Trial 30 finished with value: 0.023148148148148147 and parameters: {'bagging_fraction': 0.8576446800338386, 'bagging_freq': 2}. Best is trial 27 with value: 0.022792022792022793.\u001b[0m\n",
            "\n",
            "bagging, val_score: 0.021724:  40%|####      | 4/10 [00:12<00:18,  3.08s/it]\u001b[A"
          ]
        },
        {
          "output_type": "stream",
          "name": "stdout",
          "text": [
            "Early stopping, best iteration is:\n",
            "[5]\tvalid_0's binary_error: 0.0231481\n",
            "Training until validation scores don't improve for 100 rounds.\n"
          ]
        },
        {
          "output_type": "stream",
          "name": "stderr",
          "text": [
            "\n",
            "bagging, val_score: 0.021724:  40%|####      | 4/10 [00:14<00:18,  3.08s/it]\u001b[A\n",
            "bagging, val_score: 0.021724:  50%|#####     | 5/10 [00:14<00:13,  2.77s/it]\u001b[A\u001b[32m[I 2022-12-13 11:30:34,416]\u001b[0m Trial 31 finished with value: 0.027065527065527065 and parameters: {'bagging_fraction': 0.4014121005394213, 'bagging_freq': 5}. Best is trial 27 with value: 0.022792022792022793.\u001b[0m\n",
            "\n",
            "bagging, val_score: 0.021724:  50%|#####     | 5/10 [00:14<00:13,  2.77s/it]\u001b[A"
          ]
        },
        {
          "output_type": "stream",
          "name": "stdout",
          "text": [
            "Early stopping, best iteration is:\n",
            "[4]\tvalid_0's binary_error: 0.0270655\n",
            "Training until validation scores don't improve for 100 rounds.\n"
          ]
        },
        {
          "output_type": "stream",
          "name": "stderr",
          "text": [
            "\n",
            "bagging, val_score: 0.021724:  50%|#####     | 5/10 [00:17<00:13,  2.77s/it]\u001b[A\n",
            "bagging, val_score: 0.021724:  60%|######    | 6/10 [00:17<00:11,  2.95s/it]\u001b[A\u001b[32m[I 2022-12-13 11:30:37,724]\u001b[0m Trial 32 finished with value: 0.024572649572649572 and parameters: {'bagging_fraction': 0.8588097046383474, 'bagging_freq': 6}. Best is trial 27 with value: 0.022792022792022793.\u001b[0m\n",
            "\n",
            "bagging, val_score: 0.021724:  60%|######    | 6/10 [00:17<00:11,  2.95s/it]\u001b[A"
          ]
        },
        {
          "output_type": "stream",
          "name": "stdout",
          "text": [
            "Early stopping, best iteration is:\n",
            "[5]\tvalid_0's binary_error: 0.0245726\n",
            "Training until validation scores don't improve for 100 rounds.\n"
          ]
        },
        {
          "output_type": "stream",
          "name": "stderr",
          "text": [
            "\n",
            "bagging, val_score: 0.021724:  60%|######    | 6/10 [00:20<00:11,  2.95s/it]\u001b[A\n",
            "bagging, val_score: 0.021724:  70%|#######   | 7/10 [00:20<00:08,  2.96s/it]\u001b[A\u001b[32m[I 2022-12-13 11:30:40,696]\u001b[0m Trial 33 finished with value: 0.023504273504273504 and parameters: {'bagging_fraction': 0.6066350577780784, 'bagging_freq': 3}. Best is trial 27 with value: 0.022792022792022793.\u001b[0m\n",
            "\n",
            "bagging, val_score: 0.021724:  70%|#######   | 7/10 [00:20<00:08,  2.96s/it]\u001b[A"
          ]
        },
        {
          "output_type": "stream",
          "name": "stdout",
          "text": [
            "Early stopping, best iteration is:\n",
            "[5]\tvalid_0's binary_error: 0.0235043\n",
            "Training until validation scores don't improve for 100 rounds.\n"
          ]
        },
        {
          "output_type": "stream",
          "name": "stderr",
          "text": [
            "\n",
            "bagging, val_score: 0.021724:  70%|#######   | 7/10 [00:23<00:08,  2.96s/it]\u001b[A\n",
            "bagging, val_score: 0.021724:  80%|########  | 8/10 [00:23<00:05,  2.92s/it]\u001b[A\u001b[32m[I 2022-12-13 11:30:43,522]\u001b[0m Trial 34 finished with value: 0.025284900284900286 and parameters: {'bagging_fraction': 0.5642422633728776, 'bagging_freq': 5}. Best is trial 27 with value: 0.022792022792022793.\u001b[0m\n",
            "\n",
            "bagging, val_score: 0.021724:  80%|########  | 8/10 [00:23<00:05,  2.92s/it]\u001b[A"
          ]
        },
        {
          "output_type": "stream",
          "name": "stdout",
          "text": [
            "Early stopping, best iteration is:\n",
            "[7]\tvalid_0's binary_error: 0.0252849\n",
            "Training until validation scores don't improve for 100 rounds.\n"
          ]
        },
        {
          "output_type": "stream",
          "name": "stderr",
          "text": [
            "\n",
            "bagging, val_score: 0.021724:  80%|########  | 8/10 [00:26<00:05,  2.92s/it]\u001b[A\n",
            "bagging, val_score: 0.021724:  90%|######### | 9/10 [00:26<00:02,  2.93s/it]\u001b[A\u001b[32m[I 2022-12-13 11:30:46,467]\u001b[0m Trial 35 finished with value: 0.02386039886039886 and parameters: {'bagging_fraction': 0.5907907982691454, 'bagging_freq': 3}. Best is trial 27 with value: 0.022792022792022793.\u001b[0m\n",
            "\n",
            "bagging, val_score: 0.021724:  90%|######### | 9/10 [00:26<00:02,  2.93s/it]\u001b[A"
          ]
        },
        {
          "output_type": "stream",
          "name": "stdout",
          "text": [
            "Early stopping, best iteration is:\n",
            "[5]\tvalid_0's binary_error: 0.0238604\n",
            "Training until validation scores don't improve for 100 rounds.\n"
          ]
        },
        {
          "output_type": "stream",
          "name": "stderr",
          "text": [
            "\n",
            "bagging, val_score: 0.021724:  90%|######### | 9/10 [00:29<00:02,  2.93s/it]\u001b[A\n",
            "bagging, val_score: 0.021724: 100%|##########| 10/10 [00:29<00:00,  3.01s/it]\u001b[A\u001b[32m[I 2022-12-13 11:30:49,678]\u001b[0m Trial 36 finished with value: 0.023504273504273504 and parameters: {'bagging_fraction': 0.7589616771955823, 'bagging_freq': 7}. Best is trial 27 with value: 0.022792022792022793.\u001b[0m\n",
            "bagging, val_score: 0.021724: 100%|##########| 10/10 [00:29<00:00,  2.98s/it]\n"
          ]
        },
        {
          "output_type": "stream",
          "name": "stdout",
          "text": [
            "Early stopping, best iteration is:\n",
            "[4]\tvalid_0's binary_error: 0.0235043\n"
          ]
        },
        {
          "output_type": "stream",
          "name": "stderr",
          "text": [
            "\n",
            "  0%|          | 0/3 [00:00<?, ?it/s]\u001b[A\n",
            "feature_fraction_stage2, val_score: 0.021724:   0%|          | 0/3 [00:00<?, ?it/s]\u001b[A"
          ]
        },
        {
          "output_type": "stream",
          "name": "stdout",
          "text": [
            "Training until validation scores don't improve for 100 rounds.\n"
          ]
        },
        {
          "output_type": "stream",
          "name": "stderr",
          "text": [
            "\n",
            "feature_fraction_stage2, val_score: 0.021724:   0%|          | 0/3 [00:03<?, ?it/s]\u001b[A\n",
            "feature_fraction_stage2, val_score: 0.021724:  33%|###3      | 1/3 [00:03<00:06,  3.45s/it]\u001b[A\u001b[32m[I 2022-12-13 11:30:53,158]\u001b[0m Trial 37 finished with value: 0.02207977207977208 and parameters: {'feature_fraction': 0.9520000000000001}. Best is trial 37 with value: 0.02207977207977208.\u001b[0m\n",
            "\n",
            "feature_fraction_stage2, val_score: 0.021724:  33%|###3      | 1/3 [00:03<00:06,  3.45s/it]\u001b[A"
          ]
        },
        {
          "output_type": "stream",
          "name": "stdout",
          "text": [
            "Early stopping, best iteration is:\n",
            "[5]\tvalid_0's binary_error: 0.0220798\n",
            "Training until validation scores don't improve for 100 rounds.\n"
          ]
        },
        {
          "output_type": "stream",
          "name": "stderr",
          "text": [
            "\n",
            "feature_fraction_stage2, val_score: 0.021724:  33%|###3      | 1/3 [00:07<00:06,  3.45s/it]\u001b[A\n",
            "feature_fraction_stage2, val_score: 0.021724:  67%|######6   | 2/3 [00:07<00:03,  3.81s/it]\u001b[A\u001b[32m[I 2022-12-13 11:30:57,226]\u001b[0m Trial 38 finished with value: 0.02207977207977208 and parameters: {'feature_fraction': 0.92}. Best is trial 37 with value: 0.02207977207977208.\u001b[0m\n",
            "\n",
            "feature_fraction_stage2, val_score: 0.021724:  67%|######6   | 2/3 [00:07<00:03,  3.81s/it]\u001b[A"
          ]
        },
        {
          "output_type": "stream",
          "name": "stdout",
          "text": [
            "Early stopping, best iteration is:\n",
            "[5]\tvalid_0's binary_error: 0.0220798\n",
            "Training until validation scores don't improve for 100 rounds.\n"
          ]
        },
        {
          "output_type": "stream",
          "name": "stderr",
          "text": [
            "\n",
            "feature_fraction_stage2, val_score: 0.021724:  67%|######6   | 2/3 [00:11<00:03,  3.81s/it]\u001b[A\n",
            "feature_fraction_stage2, val_score: 0.021724: 100%|##########| 3/3 [00:11<00:00,  3.68s/it]\u001b[A\u001b[32m[I 2022-12-13 11:31:00,757]\u001b[0m Trial 39 finished with value: 0.021723646723646725 and parameters: {'feature_fraction': 0.9840000000000001}. Best is trial 39 with value: 0.021723646723646725.\u001b[0m\n",
            "feature_fraction_stage2, val_score: 0.021724: 100%|##########| 3/3 [00:11<00:00,  3.69s/it]\n"
          ]
        },
        {
          "output_type": "stream",
          "name": "stdout",
          "text": [
            "Early stopping, best iteration is:\n",
            "[5]\tvalid_0's binary_error: 0.0217236\n"
          ]
        },
        {
          "output_type": "stream",
          "name": "stderr",
          "text": [
            "\n",
            "  0%|          | 0/20 [00:00<?, ?it/s]\u001b[A\n",
            "regularization_factors, val_score: 0.021724:   0%|          | 0/20 [00:00<?, ?it/s]\u001b[A"
          ]
        },
        {
          "output_type": "stream",
          "name": "stdout",
          "text": [
            "Training until validation scores don't improve for 100 rounds.\n"
          ]
        },
        {
          "output_type": "stream",
          "name": "stderr",
          "text": [
            "\n",
            "regularization_factors, val_score: 0.021724:   0%|          | 0/20 [00:03<?, ?it/s]\u001b[A\n",
            "regularization_factors, val_score: 0.021724:   5%|5         | 1/20 [00:03<01:05,  3.47s/it]\u001b[A\u001b[32m[I 2022-12-13 11:31:04,257]\u001b[0m Trial 40 finished with value: 0.021723646723646725 and parameters: {'lambda_l1': 0.0002738177934271709, 'lambda_l2': 3.073911101595182e-08}. Best is trial 40 with value: 0.021723646723646725.\u001b[0m\n",
            "\n",
            "regularization_factors, val_score: 0.021724:   5%|5         | 1/20 [00:03<01:05,  3.47s/it]\u001b[A"
          ]
        },
        {
          "output_type": "stream",
          "name": "stdout",
          "text": [
            "Early stopping, best iteration is:\n",
            "[5]\tvalid_0's binary_error: 0.0217236\n",
            "Training until validation scores don't improve for 100 rounds.\n"
          ]
        },
        {
          "output_type": "stream",
          "name": "stderr",
          "text": [
            "\n",
            "regularization_factors, val_score: 0.021724:   5%|5         | 1/20 [00:07<01:05,  3.47s/it]\u001b[A\n",
            "regularization_factors, val_score: 0.021724:  10%|#         | 2/20 [00:07<01:03,  3.54s/it]\u001b[A\u001b[32m[I 2022-12-13 11:31:07,857]\u001b[0m Trial 41 finished with value: 0.021723646723646725 and parameters: {'lambda_l1': 2.484868824615156e-06, 'lambda_l2': 2.3950751767444526e-05}. Best is trial 40 with value: 0.021723646723646725.\u001b[0m\n",
            "\n",
            "regularization_factors, val_score: 0.021724:  10%|#         | 2/20 [00:07<01:03,  3.54s/it]\u001b[A"
          ]
        },
        {
          "output_type": "stream",
          "name": "stdout",
          "text": [
            "Early stopping, best iteration is:\n",
            "[5]\tvalid_0's binary_error: 0.0217236\n",
            "Training until validation scores don't improve for 100 rounds.\n"
          ]
        },
        {
          "output_type": "stream",
          "name": "stderr",
          "text": [
            "\n",
            "regularization_factors, val_score: 0.021724:  10%|#         | 2/20 [00:10<01:03,  3.54s/it]\u001b[A\n",
            "regularization_factors, val_score: 0.021724:  15%|#5        | 3/20 [00:10<00:59,  3.50s/it]\u001b[A\u001b[32m[I 2022-12-13 11:31:11,307]\u001b[0m Trial 42 finished with value: 0.021723646723646725 and parameters: {'lambda_l1': 5.900132692729966e-05, 'lambda_l2': 0.00022189460789248783}. Best is trial 40 with value: 0.021723646723646725.\u001b[0m\n",
            "\n",
            "regularization_factors, val_score: 0.021724:  15%|#5        | 3/20 [00:10<00:59,  3.50s/it]\u001b[A"
          ]
        },
        {
          "output_type": "stream",
          "name": "stdout",
          "text": [
            "Early stopping, best iteration is:\n",
            "[5]\tvalid_0's binary_error: 0.0217236\n",
            "Training until validation scores don't improve for 100 rounds.\n"
          ]
        },
        {
          "output_type": "stream",
          "name": "stderr",
          "text": [
            "\n",
            "regularization_factors, val_score: 0.021724:  15%|#5        | 3/20 [00:13<00:59,  3.50s/it]\u001b[A\n",
            "regularization_factors, val_score: 0.021724:  20%|##        | 4/20 [00:13<00:53,  3.32s/it]\u001b[A\u001b[32m[I 2022-12-13 11:31:14,363]\u001b[0m Trial 43 finished with value: 0.023148148148148147 and parameters: {'lambda_l1': 0.001832628595678273, 'lambda_l2': 0.07571416065522359}. Best is trial 40 with value: 0.021723646723646725.\u001b[0m\n",
            "\n",
            "regularization_factors, val_score: 0.021724:  20%|##        | 4/20 [00:13<00:53,  3.32s/it]\u001b[A"
          ]
        },
        {
          "output_type": "stream",
          "name": "stdout",
          "text": [
            "Early stopping, best iteration is:\n",
            "[6]\tvalid_0's binary_error: 0.0231481\n",
            "Training until validation scores don't improve for 100 rounds.\n"
          ]
        },
        {
          "output_type": "stream",
          "name": "stderr",
          "text": [
            "\n",
            "regularization_factors, val_score: 0.021724:  20%|##        | 4/20 [00:16<00:53,  3.32s/it]\u001b[A\n",
            "regularization_factors, val_score: 0.021724:  25%|##5       | 5/20 [00:16<00:48,  3.22s/it]\u001b[A\u001b[32m[I 2022-12-13 11:31:17,406]\u001b[0m Trial 44 finished with value: 0.022435897435897436 and parameters: {'lambda_l1': 2.3682759907906972e-08, 'lambda_l2': 0.5250202761431056}. Best is trial 40 with value: 0.021723646723646725.\u001b[0m\n",
            "\n",
            "regularization_factors, val_score: 0.021724:  25%|##5       | 5/20 [00:16<00:48,  3.22s/it]\u001b[A"
          ]
        },
        {
          "output_type": "stream",
          "name": "stdout",
          "text": [
            "Early stopping, best iteration is:\n",
            "[18]\tvalid_0's binary_error: 0.0224359\n",
            "Training until validation scores don't improve for 100 rounds.\n"
          ]
        },
        {
          "output_type": "stream",
          "name": "stderr",
          "text": [
            "\n",
            "regularization_factors, val_score: 0.021724:  25%|##5       | 5/20 [00:18<00:48,  3.22s/it]\u001b[A\n",
            "regularization_factors, val_score: 0.021724:  30%|###       | 6/20 [00:18<00:36,  2.61s/it]\u001b[A\u001b[32m[I 2022-12-13 11:31:18,824]\u001b[0m Trial 45 finished with value: 0.023148148148148147 and parameters: {'lambda_l1': 2.8626053141601644, 'lambda_l2': 4.496854757592709e-06}. Best is trial 40 with value: 0.021723646723646725.\u001b[0m\n",
            "\n",
            "regularization_factors, val_score: 0.021724:  30%|###       | 6/20 [00:18<00:36,  2.61s/it]\u001b[A"
          ]
        },
        {
          "output_type": "stream",
          "name": "stdout",
          "text": [
            "Early stopping, best iteration is:\n",
            "[23]\tvalid_0's binary_error: 0.0231481\n",
            "Training until validation scores don't improve for 100 rounds.\n"
          ]
        },
        {
          "output_type": "stream",
          "name": "stderr",
          "text": [
            "\n",
            "regularization_factors, val_score: 0.021724:  30%|###       | 6/20 [00:21<00:36,  2.61s/it]\u001b[A\n",
            "regularization_factors, val_score: 0.021724:  35%|###5      | 7/20 [00:21<00:35,  2.74s/it]\u001b[A\u001b[32m[I 2022-12-13 11:31:21,823]\u001b[0m Trial 46 finished with value: 0.023504273504273504 and parameters: {'lambda_l1': 1.5439893976525634, 'lambda_l2': 1.6630707555822803}. Best is trial 40 with value: 0.021723646723646725.\u001b[0m\n",
            "\n",
            "regularization_factors, val_score: 0.021724:  35%|###5      | 7/20 [00:21<00:35,  2.74s/it]\u001b[A"
          ]
        },
        {
          "output_type": "stream",
          "name": "stdout",
          "text": [
            "Early stopping, best iteration is:\n",
            "[18]\tvalid_0's binary_error: 0.0235043\n",
            "Training until validation scores don't improve for 100 rounds.\n"
          ]
        },
        {
          "output_type": "stream",
          "name": "stderr",
          "text": [
            "\n",
            "regularization_factors, val_score: 0.021724:  35%|###5      | 7/20 [00:23<00:35,  2.74s/it]\u001b[A\n",
            "regularization_factors, val_score: 0.021724:  40%|####      | 8/20 [00:23<00:33,  2.76s/it]\u001b[A\u001b[32m[I 2022-12-13 11:31:24,630]\u001b[0m Trial 47 finished with value: 0.022792022792022793 and parameters: {'lambda_l1': 0.02505538481412253, 'lambda_l2': 0.001441322425146971}. Best is trial 40 with value: 0.021723646723646725.\u001b[0m\n",
            "\n",
            "regularization_factors, val_score: 0.021724:  40%|####      | 8/20 [00:23<00:33,  2.76s/it]\u001b[A"
          ]
        },
        {
          "output_type": "stream",
          "name": "stdout",
          "text": [
            "Early stopping, best iteration is:\n",
            "[5]\tvalid_0's binary_error: 0.022792\n",
            "Training until validation scores don't improve for 100 rounds.\n"
          ]
        },
        {
          "output_type": "stream",
          "name": "stderr",
          "text": [
            "\n",
            "regularization_factors, val_score: 0.021724:  40%|####      | 8/20 [00:26<00:33,  2.76s/it]\u001b[A\n",
            "regularization_factors, val_score: 0.021724:  45%|####5     | 9/20 [00:26<00:31,  2.83s/it]\u001b[A\u001b[32m[I 2022-12-13 11:31:27,629]\u001b[0m Trial 48 finished with value: 0.022435897435897436 and parameters: {'lambda_l1': 0.0004369092676735335, 'lambda_l2': 0.765855470916003}. Best is trial 40 with value: 0.021723646723646725.\u001b[0m\n",
            "\n",
            "regularization_factors, val_score: 0.021724:  45%|####5     | 9/20 [00:26<00:31,  2.83s/it]\u001b[A"
          ]
        },
        {
          "output_type": "stream",
          "name": "stdout",
          "text": [
            "Early stopping, best iteration is:\n",
            "[19]\tvalid_0's binary_error: 0.0224359\n",
            "Training until validation scores don't improve for 100 rounds.\n"
          ]
        },
        {
          "output_type": "stream",
          "name": "stderr",
          "text": [
            "\n",
            "regularization_factors, val_score: 0.021724:  45%|####5     | 9/20 [00:30<00:31,  2.83s/it]\u001b[A\n",
            "regularization_factors, val_score: 0.021724:  50%|#####     | 10/20 [00:30<00:30,  3.04s/it]\u001b[A\u001b[32m[I 2022-12-13 11:31:31,130]\u001b[0m Trial 49 finished with value: 0.02207977207977208 and parameters: {'lambda_l1': 7.291153571606833e-08, 'lambda_l2': 0.0007972188409984292}. Best is trial 40 with value: 0.021723646723646725.\u001b[0m\n",
            "\n",
            "regularization_factors, val_score: 0.021724:  50%|#####     | 10/20 [00:30<00:30,  3.04s/it]\u001b[A"
          ]
        },
        {
          "output_type": "stream",
          "name": "stdout",
          "text": [
            "Early stopping, best iteration is:\n",
            "[5]\tvalid_0's binary_error: 0.0220798\n",
            "Training until validation scores don't improve for 100 rounds.\n"
          ]
        },
        {
          "output_type": "stream",
          "name": "stderr",
          "text": [
            "\n",
            "regularization_factors, val_score: 0.021724:  50%|#####     | 10/20 [00:33<00:30,  3.04s/it]\u001b[A\n",
            "regularization_factors, val_score: 0.021724:  55%|#####5    | 11/20 [00:33<00:28,  3.18s/it]\u001b[A\u001b[32m[I 2022-12-13 11:31:34,631]\u001b[0m Trial 50 finished with value: 0.021723646723646725 and parameters: {'lambda_l1': 4.559922080106399e-06, 'lambda_l2': 7.663706151496892e-08}. Best is trial 40 with value: 0.021723646723646725.\u001b[0m\n",
            "\n",
            "regularization_factors, val_score: 0.021724:  55%|#####5    | 11/20 [00:33<00:28,  3.18s/it]\u001b[A"
          ]
        },
        {
          "output_type": "stream",
          "name": "stdout",
          "text": [
            "Early stopping, best iteration is:\n",
            "[5]\tvalid_0's binary_error: 0.0217236\n",
            "Training until validation scores don't improve for 100 rounds.\n"
          ]
        },
        {
          "output_type": "stream",
          "name": "stderr",
          "text": [
            "\n",
            "regularization_factors, val_score: 0.021724:  55%|#####5    | 11/20 [00:37<00:28,  3.18s/it]\u001b[A\n",
            "regularization_factors, val_score: 0.021724:  60%|######    | 12/20 [00:37<00:26,  3.30s/it]\u001b[A\u001b[32m[I 2022-12-13 11:31:38,200]\u001b[0m Trial 51 finished with value: 0.021723646723646725 and parameters: {'lambda_l1': 2.2979693098038828e-06, 'lambda_l2': 1.1857797660834592e-08}. Best is trial 40 with value: 0.021723646723646725.\u001b[0m\n",
            "\n",
            "regularization_factors, val_score: 0.021724:  60%|######    | 12/20 [00:37<00:26,  3.30s/it]\u001b[A"
          ]
        },
        {
          "output_type": "stream",
          "name": "stdout",
          "text": [
            "Early stopping, best iteration is:\n",
            "[5]\tvalid_0's binary_error: 0.0217236\n",
            "Training until validation scores don't improve for 100 rounds.\n"
          ]
        },
        {
          "output_type": "stream",
          "name": "stderr",
          "text": [
            "\n",
            "regularization_factors, val_score: 0.021724:  60%|######    | 12/20 [00:40<00:26,  3.30s/it]\u001b[A\n",
            "regularization_factors, val_score: 0.021724:  65%|######5   | 13/20 [00:40<00:23,  3.38s/it]\u001b[A\u001b[32m[I 2022-12-13 11:31:41,758]\u001b[0m Trial 52 finished with value: 0.021723646723646725 and parameters: {'lambda_l1': 3.091102347463971e-06, 'lambda_l2': 2.1609025066708246e-06}. Best is trial 40 with value: 0.021723646723646725.\u001b[0m\n",
            "\n",
            "regularization_factors, val_score: 0.021724:  65%|######5   | 13/20 [00:40<00:23,  3.38s/it]\u001b[A"
          ]
        },
        {
          "output_type": "stream",
          "name": "stdout",
          "text": [
            "Early stopping, best iteration is:\n",
            "[5]\tvalid_0's binary_error: 0.0217236\n",
            "Training until validation scores don't improve for 100 rounds.\n"
          ]
        },
        {
          "output_type": "stream",
          "name": "stderr",
          "text": [
            "\n",
            "regularization_factors, val_score: 0.021724:  65%|######5   | 13/20 [00:44<00:23,  3.38s/it]\u001b[A\n",
            "regularization_factors, val_score: 0.021724:  70%|#######   | 14/20 [00:44<00:19,  3.31s/it]\u001b[A\u001b[32m[I 2022-12-13 11:31:44,919]\u001b[0m Trial 53 finished with value: 0.021723646723646725 and parameters: {'lambda_l1': 0.0069964142533013, 'lambda_l2': 2.7087797811482304e-06}. Best is trial 40 with value: 0.021723646723646725.\u001b[0m\n",
            "\n",
            "regularization_factors, val_score: 0.021724:  70%|#######   | 14/20 [00:44<00:19,  3.31s/it]\u001b[A"
          ]
        },
        {
          "output_type": "stream",
          "name": "stdout",
          "text": [
            "Early stopping, best iteration is:\n",
            "[5]\tvalid_0's binary_error: 0.0217236\n",
            "Training until validation scores don't improve for 100 rounds.\n"
          ]
        },
        {
          "output_type": "stream",
          "name": "stderr",
          "text": [
            "\n",
            "regularization_factors, val_score: 0.021724:  70%|#######   | 14/20 [00:50<00:19,  3.31s/it]\u001b[A\n",
            "regularization_factors, val_score: 0.021724:  75%|#######5  | 15/20 [00:50<00:20,  4.12s/it]\u001b[A\u001b[32m[I 2022-12-13 11:31:50,908]\u001b[0m Trial 54 finished with value: 0.021723646723646725 and parameters: {'lambda_l1': 5.656922254975242e-05, 'lambda_l2': 2.40121883385266e-07}. Best is trial 40 with value: 0.021723646723646725.\u001b[0m\n",
            "\n",
            "regularization_factors, val_score: 0.021724:  75%|#######5  | 15/20 [00:50<00:20,  4.12s/it]\u001b[A"
          ]
        },
        {
          "output_type": "stream",
          "name": "stdout",
          "text": [
            "Early stopping, best iteration is:\n",
            "[5]\tvalid_0's binary_error: 0.0217236\n",
            "Training until validation scores don't improve for 100 rounds.\n"
          ]
        },
        {
          "output_type": "stream",
          "name": "stderr",
          "text": [
            "\n",
            "regularization_factors, val_score: 0.021724:  75%|#######5  | 15/20 [00:52<00:20,  4.12s/it]\u001b[A\n",
            "regularization_factors, val_score: 0.021724:  80%|########  | 16/20 [00:52<00:14,  3.52s/it]\u001b[A\u001b[32m[I 2022-12-13 11:31:53,040]\u001b[0m Trial 55 finished with value: 0.022792022792022793 and parameters: {'lambda_l1': 0.11411466031257073, 'lambda_l2': 6.442065854998117e-05}. Best is trial 40 with value: 0.021723646723646725.\u001b[0m\n",
            "\n",
            "regularization_factors, val_score: 0.021724:  80%|########  | 16/20 [00:52<00:14,  3.52s/it]\u001b[A"
          ]
        },
        {
          "output_type": "stream",
          "name": "stdout",
          "text": [
            "Early stopping, best iteration is:\n",
            "[6]\tvalid_0's binary_error: 0.022792\n",
            "Training until validation scores don't improve for 100 rounds.\n"
          ]
        },
        {
          "output_type": "stream",
          "name": "stderr",
          "text": [
            "\n",
            "regularization_factors, val_score: 0.021724:  80%|########  | 16/20 [00:55<00:14,  3.52s/it]\u001b[A\n",
            "regularization_factors, val_score: 0.021724:  85%|########5 | 17/20 [00:55<00:10,  3.48s/it]\u001b[A\u001b[32m[I 2022-12-13 11:31:56,416]\u001b[0m Trial 56 finished with value: 0.02207977207977208 and parameters: {'lambda_l1': 5.370836328555504e-07, 'lambda_l2': 0.011232421845618139}. Best is trial 40 with value: 0.021723646723646725.\u001b[0m\n",
            "\n",
            "regularization_factors, val_score: 0.021724:  85%|########5 | 17/20 [00:55<00:10,  3.48s/it]\u001b[A"
          ]
        },
        {
          "output_type": "stream",
          "name": "stdout",
          "text": [
            "Early stopping, best iteration is:\n",
            "[6]\tvalid_0's binary_error: 0.0220798\n",
            "Training until validation scores don't improve for 100 rounds.\n"
          ]
        },
        {
          "output_type": "stream",
          "name": "stderr",
          "text": [
            "\n",
            "regularization_factors, val_score: 0.021724:  85%|########5 | 17/20 [00:59<00:10,  3.48s/it]\u001b[A\n",
            "regularization_factors, val_score: 0.021724:  90%|######### | 18/20 [00:59<00:06,  3.49s/it]\u001b[A\u001b[32m[I 2022-12-13 11:31:59,916]\u001b[0m Trial 57 finished with value: 0.021723646723646725 and parameters: {'lambda_l1': 7.18430027153567e-05, 'lambda_l2': 2.8657717274790734e-05}. Best is trial 40 with value: 0.021723646723646725.\u001b[0m\n",
            "\n",
            "regularization_factors, val_score: 0.021724:  90%|######### | 18/20 [00:59<00:06,  3.49s/it]\u001b[A"
          ]
        },
        {
          "output_type": "stream",
          "name": "stdout",
          "text": [
            "Early stopping, best iteration is:\n",
            "[5]\tvalid_0's binary_error: 0.0217236\n",
            "Training until validation scores don't improve for 100 rounds.\n"
          ]
        },
        {
          "output_type": "stream",
          "name": "stderr",
          "text": [
            "\n",
            "regularization_factors, val_score: 0.021724:  90%|######### | 18/20 [01:02<00:06,  3.49s/it]\u001b[A\n",
            "regularization_factors, val_score: 0.021724:  95%|#########5| 19/20 [01:02<00:03,  3.52s/it]\u001b[A\u001b[32m[I 2022-12-13 11:32:03,528]\u001b[0m Trial 58 finished with value: 0.021723646723646725 and parameters: {'lambda_l1': 0.00016143400641397554, 'lambda_l2': 1.762288322504987e-07}. Best is trial 40 with value: 0.021723646723646725.\u001b[0m\n",
            "\n",
            "regularization_factors, val_score: 0.021724:  95%|#########5| 19/20 [01:02<00:03,  3.52s/it]\u001b[A"
          ]
        },
        {
          "output_type": "stream",
          "name": "stdout",
          "text": [
            "Early stopping, best iteration is:\n",
            "[5]\tvalid_0's binary_error: 0.0217236\n",
            "Training until validation scores don't improve for 100 rounds.\n"
          ]
        },
        {
          "output_type": "stream",
          "name": "stderr",
          "text": [
            "\n",
            "regularization_factors, val_score: 0.021724:  95%|#########5| 19/20 [01:06<00:03,  3.52s/it]\u001b[A\n",
            "regularization_factors, val_score: 0.021724: 100%|##########| 20/20 [01:06<00:00,  3.57s/it]\u001b[A\u001b[32m[I 2022-12-13 11:32:07,213]\u001b[0m Trial 59 finished with value: 0.021723646723646725 and parameters: {'lambda_l1': 2.826278891924311e-05, 'lambda_l2': 1.3444044371982286e-08}. Best is trial 40 with value: 0.021723646723646725.\u001b[0m\n",
            "regularization_factors, val_score: 0.021724: 100%|##########| 20/20 [01:06<00:00,  3.32s/it]\n"
          ]
        },
        {
          "output_type": "stream",
          "name": "stdout",
          "text": [
            "Early stopping, best iteration is:\n",
            "[5]\tvalid_0's binary_error: 0.0217236\n"
          ]
        },
        {
          "output_type": "stream",
          "name": "stderr",
          "text": [
            "\n",
            "  0%|          | 0/5 [00:00<?, ?it/s]\u001b[A\n",
            "min_data_in_leaf, val_score: 0.021724:   0%|          | 0/5 [00:00<?, ?it/s]\u001b[A"
          ]
        },
        {
          "output_type": "stream",
          "name": "stdout",
          "text": [
            "Training until validation scores don't improve for 100 rounds.\n"
          ]
        },
        {
          "output_type": "stream",
          "name": "stderr",
          "text": [
            "\n",
            "min_data_in_leaf, val_score: 0.021724:   0%|          | 0/5 [00:03<?, ?it/s]\u001b[A\n",
            "min_data_in_leaf, val_score: 0.021724:  20%|##        | 1/5 [00:03<00:14,  3.58s/it]\u001b[A\u001b[32m[I 2022-12-13 11:32:10,830]\u001b[0m Trial 60 finished with value: 0.021723646723646725 and parameters: {'min_child_samples': 5}. Best is trial 60 with value: 0.021723646723646725.\u001b[0m\n",
            "\n",
            "min_data_in_leaf, val_score: 0.021724:  20%|##        | 1/5 [00:03<00:14,  3.58s/it]\u001b[A"
          ]
        },
        {
          "output_type": "stream",
          "name": "stdout",
          "text": [
            "Early stopping, best iteration is:\n",
            "[5]\tvalid_0's binary_error: 0.0217236\n",
            "Training until validation scores don't improve for 100 rounds.\n"
          ]
        },
        {
          "output_type": "stream",
          "name": "stderr",
          "text": [
            "\n",
            "min_data_in_leaf, val_score: 0.021724:  20%|##        | 1/5 [00:07<00:14,  3.58s/it]\u001b[A\n",
            "min_data_in_leaf, val_score: 0.021724:  40%|####      | 2/5 [00:07<00:10,  3.61s/it]\u001b[A\u001b[32m[I 2022-12-13 11:32:14,456]\u001b[0m Trial 61 finished with value: 0.021723646723646725 and parameters: {'min_child_samples': 100}. Best is trial 60 with value: 0.021723646723646725.\u001b[0m\n",
            "\n",
            "min_data_in_leaf, val_score: 0.021724:  40%|####      | 2/5 [00:07<00:10,  3.61s/it]\u001b[A"
          ]
        },
        {
          "output_type": "stream",
          "name": "stdout",
          "text": [
            "Early stopping, best iteration is:\n",
            "[5]\tvalid_0's binary_error: 0.0217236\n",
            "Training until validation scores don't improve for 100 rounds.\n"
          ]
        },
        {
          "output_type": "stream",
          "name": "stderr",
          "text": [
            "\n",
            "min_data_in_leaf, val_score: 0.021724:  40%|####      | 2/5 [00:10<00:10,  3.61s/it]\u001b[A\n",
            "min_data_in_leaf, val_score: 0.021724:  60%|######    | 3/5 [00:10<00:07,  3.61s/it]\u001b[A\u001b[32m[I 2022-12-13 11:32:18,072]\u001b[0m Trial 62 finished with value: 0.021723646723646725 and parameters: {'min_child_samples': 10}. Best is trial 60 with value: 0.021723646723646725.\u001b[0m\n",
            "\n",
            "min_data_in_leaf, val_score: 0.021724:  60%|######    | 3/5 [00:10<00:07,  3.61s/it]\u001b[A"
          ]
        },
        {
          "output_type": "stream",
          "name": "stdout",
          "text": [
            "Early stopping, best iteration is:\n",
            "[5]\tvalid_0's binary_error: 0.0217236\n",
            "Training until validation scores don't improve for 100 rounds.\n"
          ]
        },
        {
          "output_type": "stream",
          "name": "stderr",
          "text": [
            "\n",
            "min_data_in_leaf, val_score: 0.021724:  60%|######    | 3/5 [00:14<00:07,  3.61s/it]\u001b[A\n",
            "min_data_in_leaf, val_score: 0.021724:  80%|########  | 4/5 [00:14<00:03,  3.61s/it]\u001b[A\u001b[32m[I 2022-12-13 11:32:21,678]\u001b[0m Trial 63 finished with value: 0.021723646723646725 and parameters: {'min_child_samples': 50}. Best is trial 60 with value: 0.021723646723646725.\u001b[0m\n",
            "\n",
            "min_data_in_leaf, val_score: 0.021724:  80%|########  | 4/5 [00:14<00:03,  3.61s/it]\u001b[A"
          ]
        },
        {
          "output_type": "stream",
          "name": "stdout",
          "text": [
            "Early stopping, best iteration is:\n",
            "[5]\tvalid_0's binary_error: 0.0217236\n",
            "Training until validation scores don't improve for 100 rounds.\n"
          ]
        },
        {
          "output_type": "stream",
          "name": "stderr",
          "text": [
            "\n",
            "min_data_in_leaf, val_score: 0.021724:  80%|########  | 4/5 [00:18<00:03,  3.61s/it]\u001b[A\n",
            "min_data_in_leaf, val_score: 0.021724: 100%|##########| 5/5 [00:18<00:00,  3.62s/it]\u001b[A\u001b[32m[I 2022-12-13 11:32:25,306]\u001b[0m Trial 64 finished with value: 0.021723646723646725 and parameters: {'min_child_samples': 25}. Best is trial 60 with value: 0.021723646723646725.\u001b[0m\n",
            "min_data_in_leaf, val_score: 0.021724: 100%|##########| 5/5 [00:18<00:00,  3.62s/it]"
          ]
        },
        {
          "output_type": "stream",
          "name": "stdout",
          "text": [
            "Early stopping, best iteration is:\n",
            "[5]\tvalid_0's binary_error: 0.0217236\n"
          ]
        },
        {
          "output_type": "stream",
          "name": "stderr",
          "text": [
            "\n"
          ]
        }
      ]
    },
    {
      "cell_type": "markdown",
      "source": [
        "# 決定木"
      ],
      "metadata": {
        "id": "hGDnNgi8aOCr"
      }
    },
    {
      "cell_type": "code",
      "source": [
        "dtc_clf = DecisionTreeClassifier(random_state=seed)\n",
        "dtc_clf.fit(X_train, y_train)\n",
        "results = model_selection.cross_val_score(dtc_clf, X_test, y_test, cv = kfold) \n",
        "scores[('2.decision_tree', 'train_score')] = results.mean()\n",
        "scores[('2.decision_tree', 'test_score')] = dtc_clf.score(X_test, y_test)\n"
      ],
      "metadata": {
        "id": "RKFksy00aSSX"
      },
      "execution_count": null,
      "outputs": []
    },
    {
      "cell_type": "markdown",
      "source": [
        "# アンサンブル法：ロジスティック回帰"
      ],
      "metadata": {
        "id": "rGZiw3eSYKDU"
      }
    },
    {
      "cell_type": "code",
      "source": [
        "lr_clf = LogisticRegression(solver='lbfgs', max_iter=10000)\n",
        "lr_clf.fit(X_train, y_train)\n",
        "results = model_selection.cross_val_score(lr_clf, X_test, y_test, cv = kfold) \n",
        "scores[('3.Logistic_regression', 'train_score')] = results.mean()\n",
        "scores[('3.Logistic_regression', 'test_score')] = lr_clf.score(X_test, y_test)"
      ],
      "metadata": {
        "id": "8t7UohHeXJ4l"
      },
      "execution_count": null,
      "outputs": []
    },
    {
      "cell_type": "markdown",
      "source": [
        "# バギングアンサンブル"
      ],
      "metadata": {
        "id": "83OC_LMVaBLI"
      }
    },
    {
      "cell_type": "code",
      "source": [
        "estimators=[('gbm', gbm), ('lr', lr_clf), ('dtc', dtc_clf), ('svc', svm_clf)]\n",
        "vote_clf=VotingClassifier(estimators=estimators, voting='hard')\n",
        "vote_clf.fit(X_train, y_train)\n",
        "results = model_selection.cross_val_score(vote_clf, X_test, y_test, cv = kfold) \n",
        "scores[('4.Max_voting', 'train_score')] = results.mean()\n",
        "scores[('4.Max_voting', 'test_score')] = vote_clf.score(X_test, y_test)"
      ],
      "metadata": {
        "id": "IfKPtEBSaE1D"
      },
      "execution_count": null,
      "outputs": []
    },
    {
      "cell_type": "code",
      "source": [
        "y_test_pred = vote_clf.predict(X_test)\n",
        "y_test_pred = np.where(y_test_pred < 0.5, 0, 1) # 0.5より小さい場合0 ,そうでない場合1を返す\n",
        "print(\"Acc:\", accuracy_score(y_test , y_test_pred)) \n",
        "print(\"F:\", f1_score(y_test, y_test_pred))"
      ],
      "metadata": {
        "colab": {
          "base_uri": "https://localhost:8080/"
        },
        "id": "0xLYbwqg5XZJ",
        "outputId": "ab5d95f2-74fe-4300-c623-176a5751a77f"
      },
      "execution_count": null,
      "outputs": [
        {
          "output_type": "stream",
          "name": "stdout",
          "text": [
            "Acc: 0.9782763532763533\n",
            "F: 0.6390532544378698\n"
          ]
        }
      ]
    },
    {
      "cell_type": "markdown",
      "source": [
        "# 上のF値がよくないので、向上させるのが今回の課題\n",
        "Acc: 0.9583333333333334\\\n",
        "F: 0.5145228215767635\\\n",
        "ちなみに従来の数値は以上の通り。"
      ],
      "metadata": {
        "id": "dhnaiR-CVzvO"
      }
    },
    {
      "cell_type": "code",
      "source": [
        "from matplotlib.colors import ListedColormap\n",
        "import matplotlib.pyplot as plt\n",
        "\n",
        "\n",
        "def plot_decision_regions(X, y, classifier, test_idx=None, pca=None, resolution=0.02):\n",
        "\n",
        "    # setup marker generator and color map\n",
        "    markers = ('s', 'x', 'o', '^', 'v')\n",
        "    colors = ('red', 'blue', 'lightgreen', 'gray', 'cyan')\n",
        "    cmap = ListedColormap(colors[:len(np.unique(y))])\n",
        "\n",
        "    # plot the decision surface\n",
        "    x1_min, x1_max = X[:, 0].min() - 1, X[:, 0].max() + 1\n",
        "    x2_min, x2_max = X[:, 1].min() - 1, X[:, 1].max() + 1\n",
        "    xx1, xx2 = np.meshgrid(np.arange(x1_min, x1_max, resolution),\n",
        "                           np.arange(x2_min, x2_max, resolution))\n",
        "    x_inv = np.array([xx1.ravel(), xx2.ravel()]).T\n",
        "    if pca is not None:\n",
        "      x_inv = pca.inverse_transform(x_inv)\n",
        "    Z = classifier.predict(x_inv)\n",
        "    Z = Z.reshape(xx1.shape)\n",
        "    plt.contourf(xx1, xx2, Z, alpha=0.3, cmap=cmap)\n",
        "    plt.xlim(xx1.min(), xx1.max())\n",
        "    plt.ylim(xx2.min(), xx2.max())\n",
        "\n",
        "    for idx, cl in enumerate(np.unique(y)):\n",
        "        plt.scatter(x=X[y == cl, 0], \n",
        "                    y=X[y == cl, 1],\n",
        "                    alpha=0.8, \n",
        "                    c=colors[idx],\n",
        "                    marker=markers[idx], \n",
        "                    label=cl, \n",
        "                    edgecolor='black')\n",
        "\n",
        "    # highlight test samples\n",
        "    if test_idx:\n",
        "        # plot all samples\n",
        "        X_test, y_test = X[test_idx, :], y[test_idx]\n",
        "\n",
        "        plt.scatter(X_test[:, 0],\n",
        "                    X_test[:, 1],\n",
        "                    c='',\n",
        "                    edgecolor='black',\n",
        "                    alpha=1.0,\n",
        "                    linewidth=1,\n",
        "                    marker='o',\n",
        "                    s=100, \n",
        "                    label='test set')"
      ],
      "metadata": {
        "id": "fVCzJLBc5cb9"
      },
      "execution_count": null,
      "outputs": []
    },
    {
      "cell_type": "code",
      "source": [
        "from sklearn.decomposition import PCA\n",
        "\n",
        "pca = PCA(n_components=2)\n",
        "X_combined = np.vstack((X_train, X_test))\n",
        "y_combined = np.hstack((y_train, y_test))\n",
        "X_transformed = pca.fit_transform(X_combined)\n",
        "\n",
        "test_idx = range(X_train.shape[0], X_combined.shape[0])\n",
        "plot_decision_regions(X_transformed, y_combined, model, test_idx=test_idx, pca=pca)\n",
        "plt.xlabel('PC1 ({:.4f})'.format(pca.explained_variance_ratio_[0]))\n",
        "plt.ylabel('PC2 ({:.4f})'.format(pca.explained_variance_ratio_[1]))\n",
        "plt.legend(loc='upper left')\n",
        "plt.tight_layout()\n",
        "plt.show()"
      ],
      "metadata": {
        "colab": {
          "base_uri": "https://localhost:8080/",
          "height": 293
        },
        "id": "OvGQETu85grH",
        "outputId": "b85a3854-b4c0-4336-f97c-bce39c023c73"
      },
      "execution_count": null,
      "outputs": [
        {
          "output_type": "display_data",
          "data": {
            "text/plain": [
              "<Figure size 432x288 with 1 Axes>"
            ],
            "image/png": "[encoded data removed]"
          },
          "metadata": {}
        }
      ]
    },
    {
      "cell_type": "code",
      "source": [
        "markers = ('s', 'x')\n",
        "for idx, cl in enumerate(np.unique(y)):\n",
        "  plt.scatter(X_transformed[y==cl, 0], X_transformed[y==cl, 1], \n",
        "              marker=markers[idx], label=cl)\n",
        "\n",
        "plt.xlabel('PC1 ({:.4f})'.format(pca.explained_variance_ratio_[0]))\n",
        "plt.ylabel('PC2 ({:.4f})'.format(pca.explained_variance_ratio_[1]))\n",
        "plt.legend(loc='upper left')\n",
        "plt.tight_layout()\n",
        "plt.show()"
      ],
      "metadata": {
        "colab": {
          "base_uri": "https://localhost:8080/",
          "height": 293
        },
        "id": "RGw0-H8z5lBt",
        "outputId": "cb16fbc3-383c-448d-c3e1-8e7a4130242e"
      },
      "execution_count": null,
      "outputs": [
        {
          "output_type": "display_data",
          "data": {
            "text/plain": [
              "<Figure size 432x288 with 1 Axes>"
            ],
            "image/png": "[encoded data removed]"
          },
          "metadata": {}
        }
      ]
    },
    {
      "cell_type": "code",
      "source": [
        "!curl -Lo compound_list.sdf https://bit.ly/3WLUEtS\n",
        "\n",
        "sup = Chem.SDMolSupplier('compound_list.sdf')\n",
        "unknowns = [mol for mol in sup if mol is not None]\n",
        "cids = [mol.GetProp('PUBCHEM_COMPOUND_CID') for mol in unknowns]\n",
        "Draw.MolsToGridImage(unknowns, legends=cids, molsPerRow=4)"
      ],
      "metadata": {
        "colab": {
          "base_uri": "https://localhost:8080/",
          "height": 486
        },
        "id": "h0BLtM6Z5pMo",
        "outputId": "9c7a1715-8771-4cdd-ddfd-76a7d8b8f21a"
      },
      "execution_count": null,
      "outputs": [
        {
          "output_type": "stream",
          "name": "stdout",
          "text": [
            "  % Total    % Received % Xferd  Average Speed   Time    Time     Time  Current\n",
            "                                 Dload  Upload   Total   Spent    Left  Speed\n",
            "100   141  100   141    0     0    694      0 --:--:-- --:--:-- --:--:--   691\n",
            "100 53850  100 53850    0     0  84536      0 --:--:-- --:--:-- --:--:-- 84536\n"
          ]
        },
        {
          "output_type": "execute_result",
          "data": {
            "text/plain": [
              "<PIL.PngImagePlugin.PngImageFile image mode=RGB size=800x400 at 0x7FF829B317C0>"
            ],
            "image/png": "[encoded data removed]"
          },
          "metadata": {},
          "execution_count": 16
        }
      ]
    },
    {
      "cell_type": "code",
      "source": [
        "X_unknowns = [ AllChem.GetMorganFingerprintAsBitVect(m, 2)\n",
        "\t\tfor m in unknowns]\n",
        "X_unknowns = [ np.asarray(x) for x in X_unknowns]\n",
        "X_unknowns = np.vstack(X_unknowns)\n",
        "y_unknowns_pred = model.predict(X_unknowns)\n",
        "for cid, pred in zip(cids, y_unknowns_pred):\n",
        "  print(cid, pred)"
      ],
      "metadata": {
        "colab": {
          "base_uri": "https://localhost:8080/"
        },
        "id": "1ar9DN5_5rkk",
        "outputId": "ef73a305-afe8-4c7e-b48c-24f1f9be20e9"
      },
      "execution_count": null,
      "outputs": [
        {
          "output_type": "stream",
          "name": "stdout",
          "text": [
            "10632 0\n",
            "10635 1\n",
            "11872740 1\n",
            "15139 0\n",
            "15503 0\n",
            "2748171 1\n",
            "5833 1\n",
            "838171 0\n"
          ]
        }
      ]
    },
    {
      "cell_type": "code",
      "source": [],
      "metadata": {
        "id": "u7kH_n2y5xKw"
      },
      "execution_count": null,
      "outputs": []
    }
  ]
}